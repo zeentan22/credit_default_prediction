{
 "cells": [
  {
   "cell_type": "code",
   "execution_count": 1,
   "id": "ba1031d7",
   "metadata": {},
   "outputs": [],
   "source": [
    "import pandas as pd\n",
    "import random\n",
    "import math\n",
    "import matplotlib.pyplot as plt\n",
    "import plotly.express as px\n",
    "import seaborn as sns\n",
    "import scipy\n",
    "from scipy.stats import skew\n",
    "from scipy.stats import kurtosis\n",
    "from scipy.stats import chi2_contingency\n",
    "import numpy as np\n",
    "%matplotlib inline"
   ]
  },
  {
   "cell_type": "markdown",
   "id": "2a61fda8",
   "metadata": {},
   "source": [
    "# Introduction of dataset and data modelling problem"
   ]
  },
  {
   "cell_type": "markdown",
   "id": "d9c4abd1",
   "metadata": {},
   "source": [
    "The dataset contains information about customers in Taiwan from April 2005 to September 2005 and their default status for the next month. Hence, our group is interested to find out how well are we able to accurately predict the customer's default status based on the attributes of the customers using a support vector machine model. To find out attributes that we feel would be relavant in predicting the default status of the model, we will conduct an exploratory data analysis first."
   ]
  },
  {
   "cell_type": "code",
   "execution_count": 2,
   "id": "a84739bf",
   "metadata": {},
   "outputs": [],
   "source": [
    "df = pd.read_csv(\"card.csv\", sep = \",\", skiprows = 1)\n"
   ]
  },
  {
   "cell_type": "code",
   "execution_count": 3,
   "id": "49da9cad",
   "metadata": {
    "scrolled": true
   },
   "outputs": [
    {
     "data": {
      "text/html": [
       "<div>\n",
       "<style scoped>\n",
       "    .dataframe tbody tr th:only-of-type {\n",
       "        vertical-align: middle;\n",
       "    }\n",
       "\n",
       "    .dataframe tbody tr th {\n",
       "        vertical-align: top;\n",
       "    }\n",
       "\n",
       "    .dataframe thead th {\n",
       "        text-align: right;\n",
       "    }\n",
       "</style>\n",
       "<table border=\"1\" class=\"dataframe\">\n",
       "  <thead>\n",
       "    <tr style=\"text-align: right;\">\n",
       "      <th></th>\n",
       "      <th>ID</th>\n",
       "      <th>LIMIT_BAL</th>\n",
       "      <th>SEX</th>\n",
       "      <th>EDUCATION</th>\n",
       "      <th>MARRIAGE</th>\n",
       "      <th>AGE</th>\n",
       "      <th>PAY_0</th>\n",
       "      <th>PAY_2</th>\n",
       "      <th>PAY_3</th>\n",
       "      <th>PAY_4</th>\n",
       "      <th>...</th>\n",
       "      <th>BILL_AMT4</th>\n",
       "      <th>BILL_AMT5</th>\n",
       "      <th>BILL_AMT6</th>\n",
       "      <th>PAY_AMT1</th>\n",
       "      <th>PAY_AMT2</th>\n",
       "      <th>PAY_AMT3</th>\n",
       "      <th>PAY_AMT4</th>\n",
       "      <th>PAY_AMT5</th>\n",
       "      <th>PAY_AMT6</th>\n",
       "      <th>default payment next month</th>\n",
       "    </tr>\n",
       "  </thead>\n",
       "  <tbody>\n",
       "    <tr>\n",
       "      <th>0</th>\n",
       "      <td>1</td>\n",
       "      <td>20000</td>\n",
       "      <td>2</td>\n",
       "      <td>2</td>\n",
       "      <td>1</td>\n",
       "      <td>24</td>\n",
       "      <td>2</td>\n",
       "      <td>2</td>\n",
       "      <td>-1</td>\n",
       "      <td>-1</td>\n",
       "      <td>...</td>\n",
       "      <td>0</td>\n",
       "      <td>0</td>\n",
       "      <td>0</td>\n",
       "      <td>0</td>\n",
       "      <td>689</td>\n",
       "      <td>0</td>\n",
       "      <td>0</td>\n",
       "      <td>0</td>\n",
       "      <td>0</td>\n",
       "      <td>1</td>\n",
       "    </tr>\n",
       "    <tr>\n",
       "      <th>1</th>\n",
       "      <td>2</td>\n",
       "      <td>120000</td>\n",
       "      <td>2</td>\n",
       "      <td>2</td>\n",
       "      <td>2</td>\n",
       "      <td>26</td>\n",
       "      <td>-1</td>\n",
       "      <td>2</td>\n",
       "      <td>0</td>\n",
       "      <td>0</td>\n",
       "      <td>...</td>\n",
       "      <td>3272</td>\n",
       "      <td>3455</td>\n",
       "      <td>3261</td>\n",
       "      <td>0</td>\n",
       "      <td>1000</td>\n",
       "      <td>1000</td>\n",
       "      <td>1000</td>\n",
       "      <td>0</td>\n",
       "      <td>2000</td>\n",
       "      <td>1</td>\n",
       "    </tr>\n",
       "    <tr>\n",
       "      <th>2</th>\n",
       "      <td>3</td>\n",
       "      <td>90000</td>\n",
       "      <td>2</td>\n",
       "      <td>2</td>\n",
       "      <td>2</td>\n",
       "      <td>34</td>\n",
       "      <td>0</td>\n",
       "      <td>0</td>\n",
       "      <td>0</td>\n",
       "      <td>0</td>\n",
       "      <td>...</td>\n",
       "      <td>14331</td>\n",
       "      <td>14948</td>\n",
       "      <td>15549</td>\n",
       "      <td>1518</td>\n",
       "      <td>1500</td>\n",
       "      <td>1000</td>\n",
       "      <td>1000</td>\n",
       "      <td>1000</td>\n",
       "      <td>5000</td>\n",
       "      <td>0</td>\n",
       "    </tr>\n",
       "    <tr>\n",
       "      <th>3</th>\n",
       "      <td>4</td>\n",
       "      <td>50000</td>\n",
       "      <td>2</td>\n",
       "      <td>2</td>\n",
       "      <td>1</td>\n",
       "      <td>37</td>\n",
       "      <td>0</td>\n",
       "      <td>0</td>\n",
       "      <td>0</td>\n",
       "      <td>0</td>\n",
       "      <td>...</td>\n",
       "      <td>28314</td>\n",
       "      <td>28959</td>\n",
       "      <td>29547</td>\n",
       "      <td>2000</td>\n",
       "      <td>2019</td>\n",
       "      <td>1200</td>\n",
       "      <td>1100</td>\n",
       "      <td>1069</td>\n",
       "      <td>1000</td>\n",
       "      <td>0</td>\n",
       "    </tr>\n",
       "    <tr>\n",
       "      <th>4</th>\n",
       "      <td>5</td>\n",
       "      <td>50000</td>\n",
       "      <td>1</td>\n",
       "      <td>2</td>\n",
       "      <td>1</td>\n",
       "      <td>57</td>\n",
       "      <td>-1</td>\n",
       "      <td>0</td>\n",
       "      <td>-1</td>\n",
       "      <td>0</td>\n",
       "      <td>...</td>\n",
       "      <td>20940</td>\n",
       "      <td>19146</td>\n",
       "      <td>19131</td>\n",
       "      <td>2000</td>\n",
       "      <td>36681</td>\n",
       "      <td>10000</td>\n",
       "      <td>9000</td>\n",
       "      <td>689</td>\n",
       "      <td>679</td>\n",
       "      <td>0</td>\n",
       "    </tr>\n",
       "    <tr>\n",
       "      <th>...</th>\n",
       "      <td>...</td>\n",
       "      <td>...</td>\n",
       "      <td>...</td>\n",
       "      <td>...</td>\n",
       "      <td>...</td>\n",
       "      <td>...</td>\n",
       "      <td>...</td>\n",
       "      <td>...</td>\n",
       "      <td>...</td>\n",
       "      <td>...</td>\n",
       "      <td>...</td>\n",
       "      <td>...</td>\n",
       "      <td>...</td>\n",
       "      <td>...</td>\n",
       "      <td>...</td>\n",
       "      <td>...</td>\n",
       "      <td>...</td>\n",
       "      <td>...</td>\n",
       "      <td>...</td>\n",
       "      <td>...</td>\n",
       "      <td>...</td>\n",
       "    </tr>\n",
       "    <tr>\n",
       "      <th>29995</th>\n",
       "      <td>29996</td>\n",
       "      <td>220000</td>\n",
       "      <td>1</td>\n",
       "      <td>3</td>\n",
       "      <td>1</td>\n",
       "      <td>39</td>\n",
       "      <td>0</td>\n",
       "      <td>0</td>\n",
       "      <td>0</td>\n",
       "      <td>0</td>\n",
       "      <td>...</td>\n",
       "      <td>88004</td>\n",
       "      <td>31237</td>\n",
       "      <td>15980</td>\n",
       "      <td>8500</td>\n",
       "      <td>20000</td>\n",
       "      <td>5003</td>\n",
       "      <td>3047</td>\n",
       "      <td>5000</td>\n",
       "      <td>1000</td>\n",
       "      <td>0</td>\n",
       "    </tr>\n",
       "    <tr>\n",
       "      <th>29996</th>\n",
       "      <td>29997</td>\n",
       "      <td>150000</td>\n",
       "      <td>1</td>\n",
       "      <td>3</td>\n",
       "      <td>2</td>\n",
       "      <td>43</td>\n",
       "      <td>-1</td>\n",
       "      <td>-1</td>\n",
       "      <td>-1</td>\n",
       "      <td>-1</td>\n",
       "      <td>...</td>\n",
       "      <td>8979</td>\n",
       "      <td>5190</td>\n",
       "      <td>0</td>\n",
       "      <td>1837</td>\n",
       "      <td>3526</td>\n",
       "      <td>8998</td>\n",
       "      <td>129</td>\n",
       "      <td>0</td>\n",
       "      <td>0</td>\n",
       "      <td>0</td>\n",
       "    </tr>\n",
       "    <tr>\n",
       "      <th>29997</th>\n",
       "      <td>29998</td>\n",
       "      <td>30000</td>\n",
       "      <td>1</td>\n",
       "      <td>2</td>\n",
       "      <td>2</td>\n",
       "      <td>37</td>\n",
       "      <td>4</td>\n",
       "      <td>3</td>\n",
       "      <td>2</td>\n",
       "      <td>-1</td>\n",
       "      <td>...</td>\n",
       "      <td>20878</td>\n",
       "      <td>20582</td>\n",
       "      <td>19357</td>\n",
       "      <td>0</td>\n",
       "      <td>0</td>\n",
       "      <td>22000</td>\n",
       "      <td>4200</td>\n",
       "      <td>2000</td>\n",
       "      <td>3100</td>\n",
       "      <td>1</td>\n",
       "    </tr>\n",
       "    <tr>\n",
       "      <th>29998</th>\n",
       "      <td>29999</td>\n",
       "      <td>80000</td>\n",
       "      <td>1</td>\n",
       "      <td>3</td>\n",
       "      <td>1</td>\n",
       "      <td>41</td>\n",
       "      <td>1</td>\n",
       "      <td>-1</td>\n",
       "      <td>0</td>\n",
       "      <td>0</td>\n",
       "      <td>...</td>\n",
       "      <td>52774</td>\n",
       "      <td>11855</td>\n",
       "      <td>48944</td>\n",
       "      <td>85900</td>\n",
       "      <td>3409</td>\n",
       "      <td>1178</td>\n",
       "      <td>1926</td>\n",
       "      <td>52964</td>\n",
       "      <td>1804</td>\n",
       "      <td>1</td>\n",
       "    </tr>\n",
       "    <tr>\n",
       "      <th>29999</th>\n",
       "      <td>30000</td>\n",
       "      <td>50000</td>\n",
       "      <td>1</td>\n",
       "      <td>2</td>\n",
       "      <td>1</td>\n",
       "      <td>46</td>\n",
       "      <td>0</td>\n",
       "      <td>0</td>\n",
       "      <td>0</td>\n",
       "      <td>0</td>\n",
       "      <td>...</td>\n",
       "      <td>36535</td>\n",
       "      <td>32428</td>\n",
       "      <td>15313</td>\n",
       "      <td>2078</td>\n",
       "      <td>1800</td>\n",
       "      <td>1430</td>\n",
       "      <td>1000</td>\n",
       "      <td>1000</td>\n",
       "      <td>1000</td>\n",
       "      <td>1</td>\n",
       "    </tr>\n",
       "  </tbody>\n",
       "</table>\n",
       "<p>30000 rows × 25 columns</p>\n",
       "</div>"
      ],
      "text/plain": [
       "          ID  LIMIT_BAL  SEX  EDUCATION  MARRIAGE  AGE  PAY_0  PAY_2  PAY_3  \\\n",
       "0          1      20000    2          2         1   24      2      2     -1   \n",
       "1          2     120000    2          2         2   26     -1      2      0   \n",
       "2          3      90000    2          2         2   34      0      0      0   \n",
       "3          4      50000    2          2         1   37      0      0      0   \n",
       "4          5      50000    1          2         1   57     -1      0     -1   \n",
       "...      ...        ...  ...        ...       ...  ...    ...    ...    ...   \n",
       "29995  29996     220000    1          3         1   39      0      0      0   \n",
       "29996  29997     150000    1          3         2   43     -1     -1     -1   \n",
       "29997  29998      30000    1          2         2   37      4      3      2   \n",
       "29998  29999      80000    1          3         1   41      1     -1      0   \n",
       "29999  30000      50000    1          2         1   46      0      0      0   \n",
       "\n",
       "       PAY_4  ...  BILL_AMT4  BILL_AMT5  BILL_AMT6  PAY_AMT1  PAY_AMT2  \\\n",
       "0         -1  ...          0          0          0         0       689   \n",
       "1          0  ...       3272       3455       3261         0      1000   \n",
       "2          0  ...      14331      14948      15549      1518      1500   \n",
       "3          0  ...      28314      28959      29547      2000      2019   \n",
       "4          0  ...      20940      19146      19131      2000     36681   \n",
       "...      ...  ...        ...        ...        ...       ...       ...   \n",
       "29995      0  ...      88004      31237      15980      8500     20000   \n",
       "29996     -1  ...       8979       5190          0      1837      3526   \n",
       "29997     -1  ...      20878      20582      19357         0         0   \n",
       "29998      0  ...      52774      11855      48944     85900      3409   \n",
       "29999      0  ...      36535      32428      15313      2078      1800   \n",
       "\n",
       "       PAY_AMT3  PAY_AMT4  PAY_AMT5  PAY_AMT6  default payment next month  \n",
       "0             0         0         0         0                           1  \n",
       "1          1000      1000         0      2000                           1  \n",
       "2          1000      1000      1000      5000                           0  \n",
       "3          1200      1100      1069      1000                           0  \n",
       "4         10000      9000       689       679                           0  \n",
       "...         ...       ...       ...       ...                         ...  \n",
       "29995      5003      3047      5000      1000                           0  \n",
       "29996      8998       129         0         0                           0  \n",
       "29997     22000      4200      2000      3100                           1  \n",
       "29998      1178      1926     52964      1804                           1  \n",
       "29999      1430      1000      1000      1000                           1  \n",
       "\n",
       "[30000 rows x 25 columns]"
      ]
     },
     "execution_count": 3,
     "metadata": {},
     "output_type": "execute_result"
    }
   ],
   "source": [
    "df"
   ]
  },
  {
   "cell_type": "code",
   "execution_count": 4,
   "id": "3405283c",
   "metadata": {
    "scrolled": true
   },
   "outputs": [],
   "source": [
    "random.seed(1234)\n",
    "n = len(df.index)\n",
    "index = list(range(0,n))\n",
    "testindex = random.sample(index, math.trunc(n / 4))\n",
    "trainindex = [x for x in index if x not in testindex]\n",
    "test_data = df.loc[df.index[testindex]]\n",
    "train_data = df.loc[df.index[trainindex]]\n",
    "default_df = df[df[\"default payment next month\"] == 1]"
   ]
  },
  {
   "cell_type": "markdown",
   "id": "02a2195d",
   "metadata": {},
   "source": [
    "# Exploratory Data Analysis"
   ]
  },
  {
   "cell_type": "markdown",
   "id": "73523651",
   "metadata": {},
   "source": [
    "## Checking for missing values"
   ]
  },
  {
   "cell_type": "code",
   "execution_count": 5,
   "id": "74da01ad",
   "metadata": {},
   "outputs": [
    {
     "data": {
      "text/plain": [
       "ID                            False\n",
       "LIMIT_BAL                     False\n",
       "SEX                           False\n",
       "EDUCATION                     False\n",
       "MARRIAGE                      False\n",
       "AGE                           False\n",
       "PAY_0                         False\n",
       "PAY_2                         False\n",
       "PAY_3                         False\n",
       "PAY_4                         False\n",
       "PAY_5                         False\n",
       "PAY_6                         False\n",
       "BILL_AMT1                     False\n",
       "BILL_AMT2                     False\n",
       "BILL_AMT3                     False\n",
       "BILL_AMT4                     False\n",
       "BILL_AMT5                     False\n",
       "BILL_AMT6                     False\n",
       "PAY_AMT1                      False\n",
       "PAY_AMT2                      False\n",
       "PAY_AMT3                      False\n",
       "PAY_AMT4                      False\n",
       "PAY_AMT5                      False\n",
       "PAY_AMT6                      False\n",
       "default payment next month    False\n",
       "dtype: bool"
      ]
     },
     "execution_count": 5,
     "metadata": {},
     "output_type": "execute_result"
    }
   ],
   "source": [
    "df.isnull().any()"
   ]
  },
  {
   "cell_type": "code",
   "execution_count": 6,
   "id": "db8703e4",
   "metadata": {},
   "outputs": [
    {
     "data": {
      "text/plain": [
       "0"
      ]
     },
     "execution_count": 6,
     "metadata": {},
     "output_type": "execute_result"
    }
   ],
   "source": [
    "df.isnull().any().sum()"
   ]
  },
  {
   "cell_type": "markdown",
   "id": "2edf3030",
   "metadata": {},
   "source": [
    "After checking for null values in our dataset, we found that there are no missing values within our data set."
   ]
  },
  {
   "cell_type": "markdown",
   "id": "6a65981b",
   "metadata": {},
   "source": [
    "## Checking to see how many individuals will default the next month"
   ]
  },
  {
   "cell_type": "code",
   "execution_count": 7,
   "id": "fe13d606",
   "metadata": {},
   "outputs": [
    {
     "data": {
      "text/plain": [
       "0    23364\n",
       "1     6636\n",
       "Name: default payment next month, dtype: int64"
      ]
     },
     "execution_count": 7,
     "metadata": {},
     "output_type": "execute_result"
    }
   ],
   "source": [
    "df[\"default payment next month\"].value_counts()"
   ]
  },
  {
   "cell_type": "code",
   "execution_count": 8,
   "id": "88566457",
   "metadata": {},
   "outputs": [
    {
     "name": "stdout",
     "output_type": "stream",
     "text": [
      "default_perc : 0.2212\n",
      "non-default_perc : 0.7787999999999999\n"
     ]
    }
   ],
   "source": [
    "default_perc = 6636 / 30000\n",
    "non_default_perc = 1 - default_perc\n",
    "print(\"default_perc :\", default_perc)\n",
    "print(\"non-default_perc :\", non_default_perc)\n"
   ]
  },
  {
   "cell_type": "markdown",
   "id": "1b3aaa09",
   "metadata": {},
   "source": [
    "In the entire dataset, 22.1% of the customers default while 77.8% of the customers did not default."
   ]
  },
  {
   "cell_type": "markdown",
   "id": "10a23311",
   "metadata": {},
   "source": [
    "## Feature columns in the dataset"
   ]
  },
  {
   "cell_type": "markdown",
   "id": "ef449765",
   "metadata": {},
   "source": [
    "There are 24 feature columns in the dataset."
   ]
  },
  {
   "cell_type": "markdown",
   "id": "109b462d",
   "metadata": {},
   "source": [
    "## Summary Statistics for Age"
   ]
  },
  {
   "cell_type": "code",
   "execution_count": 9,
   "id": "eb1bec53",
   "metadata": {
    "scrolled": true
   },
   "outputs": [
    {
     "data": {
      "text/plain": [
       "count    30000.000000\n",
       "mean        35.485500\n",
       "std          9.217904\n",
       "min         21.000000\n",
       "25%         28.000000\n",
       "50%         34.000000\n",
       "75%         41.000000\n",
       "max         79.000000\n",
       "Name: AGE, dtype: float64"
      ]
     },
     "execution_count": 9,
     "metadata": {},
     "output_type": "execute_result"
    }
   ],
   "source": [
    "df[\"AGE\"].describe()"
   ]
  },
  {
   "cell_type": "code",
   "execution_count": 10,
   "id": "ef3c4bad",
   "metadata": {
    "scrolled": true
   },
   "outputs": [
    {
     "data": {
      "text/plain": [
       "<AxesSubplot:xlabel='AGE', ylabel='Count'>"
      ]
     },
     "execution_count": 10,
     "metadata": {},
     "output_type": "execute_result"
    },
    {
     "data": {
      "image/png": "[encoded data removed]",
      "text/plain": [
       "<Figure size 432x288 with 1 Axes>"
      ]
     },
     "metadata": {
      "needs_background": "light"
     },
     "output_type": "display_data"
    }
   ],
   "source": [
    "sns.histplot(data=df, x=\"AGE\", hue=\"default payment next month\")\n"
   ]
  },
  {
   "cell_type": "markdown",
   "id": "16727f16",
   "metadata": {},
   "source": [
    "From the histogram, it seems that there is a greater percentage of indivuals belonging to the age group of 20-40 to default. We will consider performing data pre processing on this category for the data to be easier to understand."
   ]
  },
  {
   "cell_type": "code",
   "execution_count": 11,
   "id": "f3891f7b",
   "metadata": {},
   "outputs": [
    {
     "name": "stdout",
     "output_type": "stream",
     "text": [
      "3.044096001350455\n",
      "0.7322458687830563\n"
     ]
    }
   ],
   "source": [
    "print(kurtosis(df[\"AGE\"], fisher=False))\n",
    "print(skew(df[\"AGE\"], bias=False))"
   ]
  },
  {
   "cell_type": "markdown",
   "id": "873d8f70",
   "metadata": {},
   "source": [
    "Kurtosis is greater than 3 so the distribution of AGE is leptokurtic\n",
    "Skew is greater than 0 so the distribution of AGE has a slightly thicker right tail"
   ]
  },
  {
   "cell_type": "code",
   "execution_count": 12,
   "id": "c02bb1a6",
   "metadata": {},
   "outputs": [],
   "source": [
    "def draw_histplots(df, variables, rows, columns, max = 0):\n",
    "    fig= plt.figure(figsize=(15, 5))\n",
    "    fig.suptitle(\"Histogram PLOT\")\n",
    "    for i, cat_name in enumerate(variables):\n",
    "        if (cat_name == \"default payment next month\"):\n",
    "            break\n",
    "        ax=fig.add_subplot(rows,columns,i+1)\n",
    "        ax.set_xlim(0,max)\n",
    "        sns.histplot(ax= ax, x= cat_name, hue=\"default payment next month\", data= df)\n",
    "        ax.set_title(cat_name)\n",
    "    fig.tight_layout()  \n",
    "    plt.show()"
   ]
  },
  {
   "cell_type": "code",
   "execution_count": 13,
   "id": "e20c5704",
   "metadata": {
    "scrolled": false
   },
   "outputs": [
    {
     "data": {
      "image/png": "[encoded data removed]",
      "text/plain": [
       "<Figure size 1080x360 with 6 Axes>"
      ]
     },
     "metadata": {
      "needs_background": "light"
     },
     "output_type": "display_data"
    }
   ],
   "source": [
    "bill_df = df[[\"BILL_AMT1\", \"BILL_AMT2\", \"BILL_AMT3\", \"BILL_AMT4\", \"BILL_AMT5\", \"BILL_AMT6\", \"default payment next month\"]]\n",
    "draw_histplots(bill_df, bill_df.columns, 2,3, max = 300_000)"
   ]
  },
  {
   "cell_type": "code",
   "execution_count": 14,
   "id": "2cd8433c",
   "metadata": {
    "scrolled": false
   },
   "outputs": [
    {
     "data": {
      "image/png": "[encoded data removed]",
      "text/plain": [
       "<Figure size 1080x360 with 6 Axes>"
      ]
     },
     "metadata": {
      "needs_background": "light"
     },
     "output_type": "display_data"
    }
   ],
   "source": [
    "payamt_df = df[[\"PAY_AMT1\", \"PAY_AMT2\", \"PAY_AMT3\", \"PAY_AMT4\", \"PAY_AMT5\", \"PAY_AMT6\", \"default payment next month\"]]\n",
    "draw_histplots(payamt_df, payamt_df.columns, 2,3, 20000)"
   ]
  },
  {
   "cell_type": "code",
   "execution_count": 15,
   "id": "0692d1c7",
   "metadata": {},
   "outputs": [
    {
     "data": {
      "text/plain": [
       "count      30000.000000\n",
       "mean      167484.322667\n",
       "std       129747.661567\n",
       "min        10000.000000\n",
       "25%        50000.000000\n",
       "50%       140000.000000\n",
       "75%       240000.000000\n",
       "max      1000000.000000\n",
       "Name: LIMIT_BAL, dtype: float64"
      ]
     },
     "execution_count": 15,
     "metadata": {},
     "output_type": "execute_result"
    }
   ],
   "source": [
    "df[\"LIMIT_BAL\"].describe()"
   ]
  },
  {
   "cell_type": "code",
   "execution_count": 16,
   "id": "0d3ce30c",
   "metadata": {},
   "outputs": [
    {
     "name": "stdout",
     "output_type": "stream",
     "text": [
      "3.5359735300865474\n",
      "0.9928669605195439\n"
     ]
    }
   ],
   "source": [
    "print(kurtosis(df[\"LIMIT_BAL\"], fisher=False))\n",
    "print(skew(df[\"LIMIT_BAL\"], bias = False))"
   ]
  },
  {
   "cell_type": "markdown",
   "id": "10f92a0c",
   "metadata": {},
   "source": [
    "Kurtosis is greater than 3 so the distribution of LIMIT_BAL is leptokurtic\n",
    "Skew is greater than 0 so the distribution of LIMIT_BAL has a slightly thicker right tail"
   ]
  },
  {
   "cell_type": "code",
   "execution_count": 17,
   "id": "399dff54",
   "metadata": {},
   "outputs": [
    {
     "data": {
      "text/plain": [
       "<AxesSubplot:xlabel='LIMIT_BAL', ylabel='Count'>"
      ]
     },
     "execution_count": 17,
     "metadata": {},
     "output_type": "execute_result"
    },
    {
     "data": {
      "image/png": "[encoded data removed]",
      "text/plain": [
       "<Figure size 432x288 with 1 Axes>"
      ]
     },
     "metadata": {
      "needs_background": "light"
     },
     "output_type": "display_data"
    }
   ],
   "source": [
    "sns.histplot(df,x = \"LIMIT_BAL\", hue = \"default payment next month\")"
   ]
  },
  {
   "cell_type": "markdown",
   "id": "1ff311b2",
   "metadata": {},
   "source": [
    "From the histogram, we can see that more people default when their limit_bal is between 0 and 0.2 * 10^6. We will conduct data discretization to reduce the number of distinct values assumed by categorical variables.\n"
   ]
  },
  {
   "cell_type": "markdown",
   "id": "3ba7bc3b",
   "metadata": {},
   "source": [
    "## Anomalies and Inconsistencies in the dataset"
   ]
  },
  {
   "cell_type": "markdown",
   "id": "16e07bc6",
   "metadata": {},
   "source": [
    "### Anomalies in dataset"
   ]
  },
  {
   "cell_type": "code",
   "execution_count": 18,
   "id": "05a7fd09",
   "metadata": {
    "scrolled": true
   },
   "outputs": [
    {
     "data": {
      "text/plain": [
       "<AxesSubplot:xlabel='EDUCATION', ylabel='count'>"
      ]
     },
     "execution_count": 18,
     "metadata": {},
     "output_type": "execute_result"
    },
    {
     "data": {
      "image/png": "[encoded data removed]",
      "text/plain": [
       "<Figure size 432x288 with 1 Axes>"
      ]
     },
     "metadata": {
      "needs_background": "light"
     },
     "output_type": "display_data"
    }
   ],
   "source": [
    "df[\"EDUCATION\"].astype(\"category\").nunique()\n",
    "df['EDUCATION'] = df['EDUCATION'].astype('category')\n",
    "sns.countplot(data = df, x= \"EDUCATION\")"
   ]
  },
  {
   "cell_type": "code",
   "execution_count": 19,
   "id": "f1c5cf8d",
   "metadata": {},
   "outputs": [
    {
     "data": {
      "text/plain": [
       "14"
      ]
     },
     "execution_count": 19,
     "metadata": {},
     "output_type": "execute_result"
    }
   ],
   "source": [
    "len(df[df['EDUCATION'] == 0 ])"
   ]
  },
  {
   "cell_type": "markdown",
   "id": "9a863349",
   "metadata": {},
   "source": [
    "There are 14 rows of data that have EDUCATION coded as 0 which was not explained by the author. Hence, we do not know whether the extra values was a typographical error or it means another form of education level that they author did not explain."
   ]
  },
  {
   "cell_type": "code",
   "execution_count": 20,
   "id": "1eff1df9",
   "metadata": {},
   "outputs": [
    {
     "data": {
      "text/plain": [
       "<AxesSubplot:xlabel='MARRIAGE', ylabel='count'>"
      ]
     },
     "execution_count": 20,
     "metadata": {},
     "output_type": "execute_result"
    },
    {
     "data": {
      "image/png": "[encoded data removed]",
      "text/plain": [
       "<Figure size 432x288 with 1 Axes>"
      ]
     },
     "metadata": {
      "needs_background": "light"
     },
     "output_type": "display_data"
    }
   ],
   "source": [
    "df['MARRIAGE'] = df['MARRIAGE'].astype('category')\n",
    "sns.countplot(data = df, x= \"MARRIAGE\")"
   ]
  },
  {
   "cell_type": "code",
   "execution_count": 21,
   "id": "d64d0a07",
   "metadata": {},
   "outputs": [
    {
     "data": {
      "text/plain": [
       "2    15964\n",
       "1    13659\n",
       "3      323\n",
       "0       54\n",
       "Name: MARRIAGE, dtype: int64"
      ]
     },
     "execution_count": 21,
     "metadata": {},
     "output_type": "execute_result"
    }
   ],
   "source": [
    "df[\"MARRIAGE\"].value_counts()"
   ]
  },
  {
   "cell_type": "markdown",
   "id": "ab1c9365",
   "metadata": {},
   "source": [
    "Similarly, the MARRIAGE variable also has an extra possible value that is 0 which was also not explained by the author. There are 54 rows of data that have MARRIAGE encoded as 0."
   ]
  },
  {
   "cell_type": "code",
   "execution_count": 22,
   "id": "a5d9f20a",
   "metadata": {},
   "outputs": [],
   "source": [
    "def draw_countplots(df, variables, rows, columns):\n",
    "    fig= plt.figure(figsize=(15, 5))\n",
    "    fig.suptitle(\"COUNT PLOT\")\n",
    "    for i, cat_name in enumerate(variables):\n",
    "        ax=fig.add_subplot(rows,columns,i+1)\n",
    "        sns.countplot(ax= ax, x= cat_name, data= df)\n",
    "        ax.set_title(cat_name)\n",
    "    fig.tight_layout()  \n",
    "    plt.show()"
   ]
  },
  {
   "cell_type": "code",
   "execution_count": 23,
   "id": "79ffab69",
   "metadata": {
    "scrolled": true
   },
   "outputs": [
    {
     "data": {
      "image/png": "[encoded data removed]",
      "text/plain": [
       "<Figure size 1080x360 with 6 Axes>"
      ]
     },
     "metadata": {
      "needs_background": "light"
     },
     "output_type": "display_data"
    }
   ],
   "source": [
    "pay_df = df[[\"PAY_0\", \"PAY_2\", \"PAY_3\", \"PAY_4\", \"PAY_5\", \"PAY_6\"]]\n",
    "draw_countplots(pay_df, pay_df.columns, 2,3)"
   ]
  },
  {
   "cell_type": "code",
   "execution_count": 24,
   "id": "6f3e748d",
   "metadata": {
    "scrolled": true
   },
   "outputs": [
    {
     "data": {
      "text/plain": [
       "14737"
      ]
     },
     "execution_count": 24,
     "metadata": {},
     "output_type": "execute_result"
    }
   ],
   "source": [
    "len(df[df[\"PAY_0\"] == 0])"
   ]
  },
  {
   "cell_type": "code",
   "execution_count": 25,
   "id": "c4c8e4ad",
   "metadata": {},
   "outputs": [
    {
     "data": {
      "text/plain": [
       "0.49123333333333336"
      ]
     },
     "execution_count": 25,
     "metadata": {},
     "output_type": "execute_result"
    }
   ],
   "source": [
    "len(df[df[\"PAY_0\"] == 0]) / len(df)"
   ]
  },
  {
   "cell_type": "markdown",
   "id": "786a3191",
   "metadata": {},
   "source": [
    "We can observe that there are extra values that the repayment status in our dataset that can take on. Specifically, we see that the repayment status can be 0 or -2 which was not explained in the dataset description. Furthermore, there are many rows that have these extra values. For example in PAY_0 alone there are already 14737 rows of data that have PAY_0 being encoded as 0 which is already about 50% of the entire dataset. Therefore, we should not filter out all the data that have these extra values encoded since that would mean that our the size of our dataset will reduce dramatically. Given that there are many rows of data that contains values that were not explained, we need to perform data cleaning and pre-processing later before starting to train our model."
   ]
  },
  {
   "cell_type": "code",
   "execution_count": 26,
   "id": "9fcf7e08",
   "metadata": {
    "scrolled": false
   },
   "outputs": [
    {
     "data": {
      "text/plain": [
       "2    18112\n",
       "1    11888\n",
       "Name: SEX, dtype: int64"
      ]
     },
     "execution_count": 26,
     "metadata": {},
     "output_type": "execute_result"
    }
   ],
   "source": [
    "df[\"SEX\"].astype(\"category\").value_counts()"
   ]
  },
  {
   "cell_type": "markdown",
   "id": "decd8874",
   "metadata": {},
   "source": [
    "No unexplained encodings observed for \"Sex\""
   ]
  },
  {
   "cell_type": "markdown",
   "id": "54121a83",
   "metadata": {},
   "source": [
    "## Data cleaning and preprocessing"
   ]
  },
  {
   "cell_type": "markdown",
   "id": "64646ebc",
   "metadata": {},
   "source": [
    "We have seen from our exploratory data analysis that there are several values that were not explained and many rows in the dataset contain such values. Hence, we decide to see if we are able to encode these values to another value that makes sense for our dataset."
   ]
  },
  {
   "cell_type": "markdown",
   "id": "eef77286",
   "metadata": {},
   "source": [
    "### Repayment Status"
   ]
  },
  {
   "cell_type": "markdown",
   "id": "77d1673c",
   "metadata": {},
   "source": [
    "Since the value in repayment status represents the number of months for payment delay, our group feels that 0 and -2 should also means that there 0 months in payment delay. Hence, our group decides to enocde 0 and -2 to -1 which represents duly payments."
   ]
  },
  {
   "cell_type": "code",
   "execution_count": 27,
   "id": "ee938723",
   "metadata": {
    "scrolled": true
   },
   "outputs": [
    {
     "data": {
      "image/png": "[encoded data removed]",
      "text/plain": [
       "<Figure size 1080x360 with 6 Axes>"
      ]
     },
     "metadata": {
      "needs_background": "light"
     },
     "output_type": "display_data"
    }
   ],
   "source": [
    "repayment_list = [df.PAY_0,df.PAY_2,df.PAY_3,df.PAY_4,df.PAY_5,df.PAY_6]\n",
    "filter_list = []\n",
    "names = [\"PAY_0\",\"PAY_2\",\"PAY_3\",\"PAY_4\",\"PAY_5\",\"PAY_6\"]\n",
    "for r in repayment_list:\n",
    "    filter_list.append((r == -2) | (r  == -1) | (r == 0))\n",
    "i = 0\n",
    "for filter_obj in filter_list:\n",
    "    df.loc[filter_obj, names[i]] = -1\n",
    "    i+=1\n",
    "pay_df = df[[\"PAY_0\", \"PAY_2\", \"PAY_3\", \"PAY_4\", \"PAY_5\", \"PAY_6\"]]\n",
    "draw_countplots(pay_df, pay_df.columns, 2,3)"
   ]
  },
  {
   "cell_type": "code",
   "execution_count": 28,
   "id": "ba8b35a2",
   "metadata": {
    "scrolled": true
   },
   "outputs": [],
   "source": [
    "df[\"LATE\"] = df[\"PAY_0\"] > -1"
   ]
  },
  {
   "cell_type": "code",
   "execution_count": 29,
   "id": "e4fcdf14",
   "metadata": {
    "scrolled": true
   },
   "outputs": [],
   "source": [
    "df[\"LATE\"] = df[\"LATE\"].astype(int)"
   ]
  },
  {
   "cell_type": "markdown",
   "id": "f7a66937",
   "metadata": {},
   "source": [
    "Our group decides to create a feature labelled as \"LATE\" to separate customers into two groups for simpler understanding. The two main groups are individuals who have been late in their payment before and those who have never been late before. We feel that there is a greater tendency for individuals who have been late in their payments to default as they may be experiencing some financial difficulties in their life."
   ]
  },
  {
   "cell_type": "markdown",
   "id": "b09c5906",
   "metadata": {},
   "source": [
    "### Education and Marriage "
   ]
  },
  {
   "cell_type": "code",
   "execution_count": 30,
   "id": "a254eaa8",
   "metadata": {
    "scrolled": false
   },
   "outputs": [],
   "source": [
    "filtered_education = (df.EDUCATION == 0)| (df.EDUCATION == 6) | (df.EDUCATION == 5)\n",
    "df.loc[filtered_education, 'EDUCATION'] = 4\n",
    "filtered_marriage = (df.MARRIAGE == 0)\n",
    "df.loc[filtered_marriage, 'MARRIAGE'] = 3"
   ]
  },
  {
   "cell_type": "markdown",
   "id": "4c815890",
   "metadata": {},
   "source": [
    "Since the value 5 and 6 for Education is unknown and value of 0 for Education is not explained, our group decides to group all of them under value 4 which is 'others'. For the value 0 under Marriage, we decide to group them under value 3 which is \"others\"."
   ]
  },
  {
   "cell_type": "markdown",
   "id": "52e8d718",
   "metadata": {},
   "source": [
    "### Age"
   ]
  },
  {
   "cell_type": "code",
   "execution_count": 31,
   "id": "858d06be",
   "metadata": {},
   "outputs": [],
   "source": [
    "def conditions_age(df):\n",
    "    if (df['AGE'] > 20) and (df[\"AGE\"] <= 40):\n",
    "        return 1\n",
    "    elif (df[\"AGE\"] > 40 and df[\"AGE\"] <= 60):\n",
    "        return 2\n",
    "    else:\n",
    "        return 3\n",
    "\n",
    "df[\"NEW_AGE\"] = df.apply(conditions_age, axis=1)"
   ]
  },
  {
   "cell_type": "markdown",
   "id": "fb56931f",
   "metadata": {},
   "source": [
    "Age > 20 and Age <= 40 : 1\n",
    "Age > 40 and Age <= 60 : 2\n",
    "Age > 60  3\n",
    "this is for data discretization"
   ]
  },
  {
   "cell_type": "markdown",
   "id": "2da89fc7",
   "metadata": {},
   "source": [
    "### Limit Bal"
   ]
  },
  {
   "cell_type": "code",
   "execution_count": 32,
   "id": "fe194a26",
   "metadata": {},
   "outputs": [],
   "source": [
    "def conditions_limit(df):\n",
    "    if (df['LIMIT_BAL'] > 0) and (df[\"LIMIT_BAL\"] <= 200_000):\n",
    "        return 1\n",
    "    elif (df[\"LIMIT_BAL\"] > 200_000 and df[\"LIMIT_BAL\"] <= 400_000):\n",
    "        return 2\n",
    "    else:\n",
    "        return 3\n",
    "\n",
    "df[\"NEW_LIMIT_BAL\"] = df.apply(conditions_limit, axis=1)"
   ]
  },
  {
   "cell_type": "markdown",
   "id": "b3897b14",
   "metadata": {},
   "source": [
    "LIMIT_BAL > 0 and LIMIT_BAL <= 200 000  : 1\n",
    "LB > 200 000 and LB  <= 400 000 : 2\n",
    "LB > 400 000  3\n",
    "same as age"
   ]
  },
  {
   "cell_type": "markdown",
   "id": "4d6c6f67",
   "metadata": {},
   "source": [
    "## Checking for trends after data preprocessing"
   ]
  },
  {
   "cell_type": "markdown",
   "id": "bf6d05de",
   "metadata": {},
   "source": [
    "### Countplot for individuals who have been late in their payment before"
   ]
  },
  {
   "cell_type": "code",
   "execution_count": 33,
   "id": "b2ff53b7",
   "metadata": {
    "scrolled": true
   },
   "outputs": [
    {
     "data": {
      "text/plain": [
       "<AxesSubplot:xlabel='LATE', ylabel='count'>"
      ]
     },
     "execution_count": 33,
     "metadata": {},
     "output_type": "execute_result"
    },
    {
     "data": {
      "image/png": "[encoded data removed]",
      "text/plain": [
       "<Figure size 432x288 with 1 Axes>"
      ]
     },
     "metadata": {
      "needs_background": "light"
     },
     "output_type": "display_data"
    }
   ],
   "source": [
    "sns.countplot(data = df, x = \"LATE\", hue = \"default payment next month\")"
   ]
  },
  {
   "cell_type": "code",
   "execution_count": 34,
   "id": "e4e11504",
   "metadata": {},
   "outputs": [
    {
     "name": "stdout",
     "output_type": "stream",
     "text": [
      "0.13834009145026313\n",
      "0.5029334115576415\n"
     ]
    }
   ],
   "source": [
    "# late is 0 and defaults\n",
    "LATE_0_defaults = len(df[(df[\"LATE\"] == 0) & (df[\"default payment next month\"] == 1)])\n",
    "LATE_0_defaults_perc = LATE_0_defaults / len(df[(df[\"LATE\"] == 0)])\n",
    "print(LATE_0_defaults_perc)\n",
    "\n",
    "\n",
    "# late is 1 and defaults\n",
    "LATE_1_defaults = len(df[(df[\"LATE\"] == 1) & (df[\"default payment next month\"] == 1)])\n",
    "LATE_1_defaults_perc = LATE_1_defaults / len(df[(df[\"LATE\"] == 1)])\n",
    "print(LATE_1_defaults_perc)"
   ]
  },
  {
   "cell_type": "markdown",
   "id": "daf994a9",
   "metadata": {},
   "source": [
    "From the graph we can see that a greater percentage of those who have been late in their payments before to default in the next month. It seems that this feature will useful in predicting whether customer will default."
   ]
  },
  {
   "cell_type": "markdown",
   "id": "f90527bc",
   "metadata": {},
   "source": [
    "### Countplot for individuals based on their marriage status"
   ]
  },
  {
   "cell_type": "code",
   "execution_count": 35,
   "id": "9b0ff377",
   "metadata": {
    "scrolled": true
   },
   "outputs": [
    {
     "data": {
      "text/plain": [
       "<AxesSubplot:xlabel='MARRIAGE', ylabel='count'>"
      ]
     },
     "execution_count": 35,
     "metadata": {},
     "output_type": "execute_result"
    },
    {
     "data": {
      "image/png": "[encoded data removed]",
      "text/plain": [
       "<Figure size 432x288 with 1 Axes>"
      ]
     },
     "metadata": {
      "needs_background": "light"
     },
     "output_type": "display_data"
    }
   ],
   "source": [
    "sns.countplot(data = df, x = \"MARRIAGE\", hue = \"default payment next month\")"
   ]
  },
  {
   "cell_type": "code",
   "execution_count": 36,
   "id": "919fcf1c",
   "metadata": {},
   "outputs": [
    {
     "name": "stdout",
     "output_type": "stream",
     "text": [
      "0.23471703638626545\n",
      "0.20928338762214985\n",
      "0.23607427055702918\n"
     ]
    }
   ],
   "source": [
    "# marriage is 1 and defaults\n",
    "MARRIAGE_1_defaults = len(df[(df[\"MARRIAGE\"] == 1) & (df[\"default payment next month\"] == 1)])\n",
    "MARRIAGE_1_defaults_perc = MARRIAGE_1_defaults / len(df[(df[\"MARRIAGE\"] == 1)])\n",
    "print(MARRIAGE_1_defaults_perc)\n",
    "\n",
    "\n",
    "# marriage is 2 and defaults\n",
    "MARRIAGE_2_defaults = len(df[(df[\"MARRIAGE\"] == 2) & (df[\"default payment next month\"] == 1)])\n",
    "MARRIAGE_2_defaults_perc = MARRIAGE_2_defaults / len(df[(df[\"MARRIAGE\"] == 2)])\n",
    "print(MARRIAGE_2_defaults_perc)\n",
    "\n",
    "# marriage is 3 and defaults\n",
    "MARRIAGE_3_defaults = len(df[(df[\"MARRIAGE\"] == 3) & (df[\"default payment next month\"] == 1)])\n",
    "MARRIAGE_3_defaults_perc = MARRIAGE_3_defaults / len(df[(df[\"MARRIAGE\"] == 3)])\n",
    "print(MARRIAGE_3_defaults_perc)\n",
    "\n"
   ]
  },
  {
   "cell_type": "markdown",
   "id": "8e73f2a4",
   "metadata": {},
   "source": [
    "Not much differences"
   ]
  },
  {
   "cell_type": "markdown",
   "id": "f996d281",
   "metadata": {},
   "source": [
    "### Countplot for individuals based on their sex"
   ]
  },
  {
   "cell_type": "code",
   "execution_count": 37,
   "id": "c2621643",
   "metadata": {
    "scrolled": true
   },
   "outputs": [
    {
     "data": {
      "text/plain": [
       "<AxesSubplot:xlabel='SEX', ylabel='count'>"
      ]
     },
     "execution_count": 37,
     "metadata": {},
     "output_type": "execute_result"
    },
    {
     "data": {
      "image/png": "[encoded data removed]",
      "text/plain": [
       "<Figure size 432x288 with 1 Axes>"
      ]
     },
     "metadata": {
      "needs_background": "light"
     },
     "output_type": "display_data"
    }
   ],
   "source": [
    "sns.countplot(data = df, x = \"SEX\", hue = \"default payment next month\")"
   ]
  },
  {
   "cell_type": "code",
   "execution_count": 38,
   "id": "d7e63880",
   "metadata": {},
   "outputs": [
    {
     "name": "stdout",
     "output_type": "stream",
     "text": [
      "0.2416722745625841\n",
      "0.20776280918727916\n"
     ]
    }
   ],
   "source": [
    "# sex is male and defaults\n",
    "sex_1_defaults = len(df[(df[\"SEX\"] == 1) & (df[\"default payment next month\"] == 1)])\n",
    "sex_1_defaults_perc = sex_1_defaults / len(df[(df[\"SEX\"] == 1)])\n",
    "print(sex_1_defaults_perc)\n",
    "\n",
    "# sex is female and defaults\n",
    "sex_2_defaults = len(df[(df[\"SEX\"] == 2) & (df[\"default payment next month\"] == 1)])\n",
    "sex_2_defaults_perc = sex_2_defaults / len(df[(df[\"SEX\"] == 2)])\n",
    "print(sex_2_defaults_perc)"
   ]
  },
  {
   "cell_type": "markdown",
   "id": "bd663f6b",
   "metadata": {},
   "source": [
    "Overall, it seems that individuals who are male are more likely to default than females. Hence, the gender of the customer could be useful in predicting customer default status."
   ]
  },
  {
   "cell_type": "markdown",
   "id": "26cd3d9a",
   "metadata": {},
   "source": [
    "### Countplot for individuals based on their education"
   ]
  },
  {
   "cell_type": "code",
   "execution_count": 39,
   "id": "6cc27e1e",
   "metadata": {},
   "outputs": [
    {
     "data": {
      "text/plain": [
       "<AxesSubplot:xlabel='EDUCATION', ylabel='count'>"
      ]
     },
     "execution_count": 39,
     "metadata": {},
     "output_type": "execute_result"
    },
    {
     "data": {
      "image/png": "[encoded data removed]",
      "text/plain": [
       "<Figure size 432x288 with 1 Axes>"
      ]
     },
     "metadata": {
      "needs_background": "light"
     },
     "output_type": "display_data"
    }
   ],
   "source": [
    "sns.countplot(data = df, x = \"EDUCATION\", hue = \"default payment next month\")"
   ]
  },
  {
   "cell_type": "code",
   "execution_count": 40,
   "id": "3807ef2a",
   "metadata": {},
   "outputs": [
    {
     "name": "stdout",
     "output_type": "stream",
     "text": [
      "0.19234766178554558\n",
      "0.23734853884533144\n",
      "0.2515761643278422\n",
      "0.07051282051282051\n"
     ]
    }
   ],
   "source": [
    "# education is 1 and defaults\n",
    "edu_1_defaults = len(df[(df[\"EDUCATION\"] == 1) & (df[\"default payment next month\"] == 1)])\n",
    "edu_1_defaults_perc = edu_1_defaults / len(df[(df[\"EDUCATION\"] == 1)])\n",
    "print(edu_1_defaults_perc)\n",
    "\n",
    "\n",
    "# education is 2 and defaults\n",
    "edu_2_defaults = len(df[(df[\"EDUCATION\"] == 2) & (df[\"default payment next month\"] == 1)])\n",
    "edu_2_defaults_perc = edu_2_defaults / len(df[(df[\"EDUCATION\"] == 2)])\n",
    "print(edu_2_defaults_perc)\n",
    "\n",
    "# education is 3 and defaults\n",
    "edu_3_defaults = len(df[(df[\"EDUCATION\"] == 3) & (df[\"default payment next month\"] == 1)])\n",
    "edu_3_defaults_perc = edu_3_defaults / len(df[(df[\"EDUCATION\"] == 3)])\n",
    "print(edu_3_defaults_perc)\n",
    "\n",
    "# education is 4 and defaults\n",
    "edu_4_defaults = len(df[(df[\"EDUCATION\"] == 4) & (df[\"default payment next month\"] == 1)])\n",
    "edu_4_defaults_perc = edu_4_defaults / len(df[(df[\"EDUCATION\"] == 4)])\n",
    "print(edu_4_defaults_perc)"
   ]
  },
  {
   "cell_type": "markdown",
   "id": "11cc3de5",
   "metadata": {},
   "source": [
    "From the graph and based on our further calculations, it seems that there is a higher percentage of individuals with an education level of high school to default. This feature could also be useful for our model."
   ]
  },
  {
   "cell_type": "code",
   "execution_count": 41,
   "id": "7072b950",
   "metadata": {
    "scrolled": true
   },
   "outputs": [
    {
     "data": {
      "text/plain": [
       "<AxesSubplot:xlabel='NEW_AGE', ylabel='count'>"
      ]
     },
     "execution_count": 41,
     "metadata": {},
     "output_type": "execute_result"
    },
    {
     "data": {
      "image/png": "[encoded data removed]",
      "text/plain": [
       "<Figure size 432x288 with 1 Axes>"
      ]
     },
     "metadata": {
      "needs_background": "light"
     },
     "output_type": "display_data"
    }
   ],
   "source": [
    "sns.countplot(data = df, x = \"NEW_AGE\", hue = \"default payment next month\")"
   ]
  },
  {
   "cell_type": "code",
   "execution_count": 42,
   "id": "70f03c6c",
   "metadata": {},
   "outputs": [
    {
     "name": "stdout",
     "output_type": "stream",
     "text": [
      "0.2144895516892203\n",
      "0.23781554611347164\n",
      "0.26838235294117646\n"
     ]
    }
   ],
   "source": [
    "# AGE is 1 and defaults\n",
    "age_1_defaults = len(df[(df[\"NEW_AGE\"] == 1) & (df[\"default payment next month\"] == 1)])\n",
    "age_1_defaults_perc = age_1_defaults / len(df[(df[\"NEW_AGE\"] == 1)])\n",
    "print(age_1_defaults_perc)\n",
    "\n",
    "\n",
    "# AGE is 2 and defaults\n",
    "age_2_defaults = len(df[(df[\"NEW_AGE\"] == 2) & (df[\"default payment next month\"] == 1)])\n",
    "age_2_defaults_perc = age_2_defaults / len(df[(df[\"NEW_AGE\"] == 2)])\n",
    "print(age_2_defaults_perc)\n",
    "\n",
    "# AGE is 3 and defaults\n",
    "age_3_defaults = len(df[(df[\"NEW_AGE\"] == 3) & (df[\"default payment next month\"] == 1)])\n",
    "age_3_defaults_perc = age_3_defaults / len(df[(df[\"NEW_AGE\"] == 3)])\n",
    "print(age_3_defaults_perc)"
   ]
  },
  {
   "cell_type": "markdown",
   "id": "8a0316cd",
   "metadata": {},
   "source": [
    "percentage is quite similar for all age groups."
   ]
  },
  {
   "cell_type": "code",
   "execution_count": 43,
   "id": "0c7d7c70",
   "metadata": {
    "scrolled": true
   },
   "outputs": [
    {
     "data": {
      "text/plain": [
       "<AxesSubplot:xlabel='NEW_LIMIT_BAL', ylabel='count'>"
      ]
     },
     "execution_count": 43,
     "metadata": {},
     "output_type": "execute_result"
    },
    {
     "data": {
      "image/png": "[encoded data removed]",
      "text/plain": [
       "<Figure size 432x288 with 1 Axes>"
      ]
     },
     "metadata": {
      "needs_background": "light"
     },
     "output_type": "display_data"
    }
   ],
   "source": [
    "sns.countplot(data = df, x = \"NEW_LIMIT_BAL\", hue = \"default payment next month\")"
   ]
  },
  {
   "cell_type": "code",
   "execution_count": 44,
   "id": "a7f31a1d",
   "metadata": {},
   "outputs": [
    {
     "name": "stdout",
     "output_type": "stream",
     "text": [
      "0.2561095298851703\n",
      "0.15349194167306215\n",
      "0.12028824833702882\n"
     ]
    }
   ],
   "source": [
    "# NLB is 1 and defaults\n",
    "nlb_1_defaults = len(df[(df[\"NEW_LIMIT_BAL\"] == 1) & (df[\"default payment next month\"] == 1)])\n",
    "nlb_1_defaults_perc = nlb_1_defaults / len(df[(df[\"NEW_LIMIT_BAL\"] == 1)])\n",
    "print(nlb_1_defaults_perc)\n",
    "\n",
    "\n",
    "# NLB is 2 and defaults\n",
    "nlb_2_defaults = len(df[(df[\"NEW_LIMIT_BAL\"] == 2) & (df[\"default payment next month\"] == 1)])\n",
    "nlb_2_defaults_perc = nlb_2_defaults / len(df[(df[\"NEW_LIMIT_BAL\"] == 2)])\n",
    "print(nlb_2_defaults_perc)\n",
    "\n",
    "# NLB is 3 and defaults\n",
    "nlb_3_defaults = len(df[(df[\"NEW_LIMIT_BAL\"] == 3) & (df[\"default payment next month\"] == 1)])\n",
    "nlb_3_defaults_perc = nlb_3_defaults / len(df[(df[\"NEW_LIMIT_BAL\"] == 3)])\n",
    "print(nlb_3_defaults_perc)"
   ]
  },
  {
   "cell_type": "markdown",
   "id": "f83f2aaf",
   "metadata": {},
   "source": [
    "People who have limit balance of 0 to 200 000 have a much higher percentage of default compared to other groups."
   ]
  },
  {
   "cell_type": "markdown",
   "id": "e3b86cc2",
   "metadata": {},
   "source": [
    "## Feature Selection"
   ]
  },
  {
   "cell_type": "code",
   "execution_count": 45,
   "id": "57037470",
   "metadata": {},
   "outputs": [
    {
     "name": "stdout",
     "output_type": "stream",
     "text": [
      "2    18112\n",
      "1    11888\n",
      "Name: SEX, dtype: int64\n",
      "1    2873\n",
      "Name: SEX, dtype: int64\n",
      "2    3763\n",
      "Name: SEX, dtype: int64\n",
      "1    9015\n",
      "Name: SEX, dtype: int64\n",
      "2    14349\n",
      "Name: SEX, dtype: int64\n"
     ]
    }
   ],
   "source": [
    "# SEX\n",
    "print(df[\"SEX\"].value_counts())\n",
    "print(df[(df[\"SEX\"] == 1) & (df[\"default payment next month\"] == 1)][\"SEX\"].value_counts())\n",
    "print(df[(df[\"SEX\"] == 2) & (df[\"default payment next month\"] == 1)][\"SEX\"].value_counts())\n",
    "print(df[(df[\"SEX\"] == 1) & (df[\"default payment next month\"] == 0)][\"SEX\"].value_counts())\n",
    "print(df[(df[\"SEX\"] == 2) & (df[\"default payment next month\"] == 0)][\"SEX\"].value_counts())\n"
   ]
  },
  {
   "cell_type": "markdown",
   "id": "b79332ef",
   "metadata": {},
   "source": [
    "2873 -> SEX = 1 and default\n",
    "3763 -> SEX = 2 and default\n",
    "9015 -> SEX = 1 and no default\n",
    "14349 -> SEX = 2 and no default"
   ]
  },
  {
   "cell_type": "code",
   "execution_count": 46,
   "id": "02b28e04",
   "metadata": {},
   "outputs": [
    {
     "data": {
      "text/plain": [
       "(47.70879689062111,\n",
       " 4.944678999412044e-12,\n",
       " 1,\n",
       " array([[ 2629.6256,  4006.3744],\n",
       "        [ 9258.3744, 14105.6256]]))"
      ]
     },
     "execution_count": 46,
     "metadata": {},
     "output_type": "execute_result"
    }
   ],
   "source": [
    "tab_data = [[2873, 3763], [9015, 14349]]\n",
    "chi2_contingency(tab_data)"
   ]
  },
  {
   "cell_type": "code",
   "execution_count": 47,
   "id": "1db2c674",
   "metadata": {},
   "outputs": [
    {
     "name": "stdout",
     "output_type": "stream",
     "text": [
      "2    14030\n",
      "1    10585\n",
      "3     4917\n",
      "4      468\n",
      "0        0\n",
      "5        0\n",
      "6        0\n",
      "Name: EDUCATION, dtype: int64\n",
      "2036\n",
      "3330\n",
      "1237\n",
      "33\n",
      "8549\n",
      "10700\n",
      "3680\n",
      "435\n"
     ]
    }
   ],
   "source": [
    "# EDUCATION\n",
    "print(df[\"EDUCATION\"].value_counts())\n",
    "print(len(df[(df[\"EDUCATION\"] == 1) & (df[\"default payment next month\"] == 1)]))\n",
    "print(len(df[(df[\"EDUCATION\"] == 2) & (df[\"default payment next month\"] == 1)]))\n",
    "print(len(df[(df[\"EDUCATION\"] == 3) & (df[\"default payment next month\"] == 1)]))\n",
    "print(len(df[(df[\"EDUCATION\"] == 4) & (df[\"default payment next month\"] == 1)]))\n",
    "\n",
    "\n",
    "print(len(df[(df[\"EDUCATION\"] == 1) & (df[\"default payment next month\"] == 0)]))\n",
    "print(len(df[(df[\"EDUCATION\"] == 2) & (df[\"default payment next month\"] == 0)]))\n",
    "print(len(df[(df[\"EDUCATION\"] == 3) & (df[\"default payment next month\"] == 0)]))\n",
    "print(len(df[(df[\"EDUCATION\"] == 4) & (df[\"default payment next month\"] == 0)]))\n"
   ]
  },
  {
   "cell_type": "code",
   "execution_count": 48,
   "id": "ef3b08cc",
   "metadata": {},
   "outputs": [
    {
     "data": {
      "text/plain": [
       "1.495064564810615e-34"
      ]
     },
     "execution_count": 48,
     "metadata": {},
     "output_type": "execute_result"
    }
   ],
   "source": [
    "tab_data_EDUCATION = [[2036,3330,1237,33], [8549,10700,3680,435]]\n",
    "chi2, p, dof, ex =  chi2_contingency(tab_data_EDUCATION)\n",
    "p"
   ]
  },
  {
   "cell_type": "code",
   "execution_count": 49,
   "id": "192d2be8",
   "metadata": {},
   "outputs": [
    {
     "name": "stdout",
     "output_type": "stream",
     "text": [
      "2    15964\n",
      "1    13659\n",
      "3      377\n",
      "0        0\n",
      "Name: MARRIAGE, dtype: int64\n",
      "3206\n",
      "3341\n",
      "89\n",
      "10453\n",
      "12623\n",
      "288\n"
     ]
    }
   ],
   "source": [
    "# MARRIAGE\n",
    "print(df[\"MARRIAGE\"].value_counts())\n",
    "print(len(df[(df[\"MARRIAGE\"] == 1) & (df[\"default payment next month\"] == 1)]))\n",
    "print(len(df[(df[\"MARRIAGE\"] == 2) & (df[\"default payment next month\"] == 1)]))\n",
    "print(len(df[(df[\"MARRIAGE\"] == 3) & (df[\"default payment next month\"] == 1)]))\n",
    "\n",
    "print(len(df[(df[\"MARRIAGE\"] == 1) & (df[\"default payment next month\"] == 0)]))\n",
    "print(len(df[(df[\"MARRIAGE\"] == 2) & (df[\"default payment next month\"] == 0)]))\n",
    "print(len(df[(df[\"MARRIAGE\"] == 3) & (df[\"default payment next month\"] == 0)]))\n"
   ]
  },
  {
   "cell_type": "code",
   "execution_count": 50,
   "id": "395a55ba",
   "metadata": {},
   "outputs": [
    {
     "data": {
      "text/plain": [
       "7.790720364202813e-07"
      ]
     },
     "execution_count": 50,
     "metadata": {},
     "output_type": "execute_result"
    }
   ],
   "source": [
    "tab_data_MARRIAGE = [[3206,3341,89], [10453,12623,288]]\n",
    "chi2, p, dof, ex =  chi2_contingency(tab_data_MARRIAGE)\n",
    "p"
   ]
  },
  {
   "cell_type": "code",
   "execution_count": 51,
   "id": "fa317250",
   "metadata": {},
   "outputs": [
    {
     "name": "stdout",
     "output_type": "stream",
     "text": [
      "1    20378\n",
      "2     7818\n",
      "3     1804\n",
      "Name: NEW_LIMIT_BAL, dtype: int64\n",
      "5219\n",
      "1200\n",
      "217\n",
      "15159\n",
      "6618\n",
      "1587\n"
     ]
    }
   ],
   "source": [
    "# NEW_LIMIT_BAL\n",
    "print(df[\"NEW_LIMIT_BAL\"].value_counts())\n",
    "print(len(df[(df[\"NEW_LIMIT_BAL\"] == 1) & (df[\"default payment next month\"] == 1)]))\n",
    "print(len(df[(df[\"NEW_LIMIT_BAL\"] == 2) & (df[\"default payment next month\"] == 1)]))\n",
    "print(len(df[(df[\"NEW_LIMIT_BAL\"] == 3) & (df[\"default payment next month\"] == 1)]))\n",
    "\n",
    "print(len(df[(df[\"NEW_LIMIT_BAL\"] == 1) & (df[\"default payment next month\"] == 0)]))\n",
    "print(len(df[(df[\"NEW_LIMIT_BAL\"] == 2) & (df[\"default payment next month\"] == 0)]))\n",
    "print(len(df[(df[\"NEW_LIMIT_BAL\"] == 3) & (df[\"default payment next month\"] == 0)]))"
   ]
  },
  {
   "cell_type": "code",
   "execution_count": 52,
   "id": "2c102471",
   "metadata": {},
   "outputs": [
    {
     "data": {
      "text/plain": [
       "2.3082716470487475e-100"
      ]
     },
     "execution_count": 52,
     "metadata": {},
     "output_type": "execute_result"
    }
   ],
   "source": [
    "tab_data_NLB = [[5219,1200,217], [15159,6618,1587]]\n",
    "chi2, p, dof, ex =  chi2_contingency(tab_data_NLB)\n",
    "p"
   ]
  },
  {
   "cell_type": "code",
   "execution_count": 53,
   "id": "089e5e4b",
   "metadata": {},
   "outputs": [
    {
     "name": "stdout",
     "output_type": "stream",
     "text": [
      "0    23182\n",
      "1     6818\n",
      "Name: LATE, dtype: int64\n",
      "3207\n",
      "3429\n",
      "19975\n",
      "3389\n"
     ]
    }
   ],
   "source": [
    "# LATE\n",
    "print(df[\"LATE\"].value_counts())\n",
    "print(len(df[(df[\"LATE\"] == 0) & (df[\"default payment next month\"] == 1)]))\n",
    "print(len(df[(df[\"LATE\"] == 1) & (df[\"default payment next month\"] == 1)]))\n",
    "\n",
    "print(len(df[(df[\"LATE\"] == 0) & (df[\"default payment next month\"] == 0)]))\n",
    "print(len(df[(df[\"LATE\"] == 1) & (df[\"default payment next month\"] == 0)]))\n"
   ]
  },
  {
   "cell_type": "code",
   "execution_count": 54,
   "id": "c6091fdd",
   "metadata": {},
   "outputs": [
    {
     "data": {
      "text/plain": [
       "0.0"
      ]
     },
     "execution_count": 54,
     "metadata": {},
     "output_type": "execute_result"
    }
   ],
   "source": [
    "tab_data_LATE = [[3207,3429], [19975,3389]]\n",
    "chi2, p, dof, ex = chi2_contingency(tab_data_LATE)\n",
    "p"
   ]
  },
  {
   "cell_type": "code",
   "execution_count": 55,
   "id": "b0ffdcae",
   "metadata": {},
   "outputs": [
    {
     "name": "stdout",
     "output_type": "stream",
     "text": [
      "1    21726\n",
      "2     8002\n",
      "3      272\n",
      "Name: NEW_AGE, dtype: int64\n",
      "4660\n",
      "1903\n",
      "73\n",
      "17066\n",
      "6099\n",
      "199\n"
     ]
    }
   ],
   "source": [
    "# NEW_AGE\n",
    "print(df[\"NEW_AGE\"].value_counts())\n",
    "print(len(df[(df[\"NEW_AGE\"] == 1) & (df[\"default payment next month\"] == 1)]))\n",
    "print(len(df[(df[\"NEW_AGE\"] == 2) & (df[\"default payment next month\"] == 1)]))\n",
    "print(len(df[(df[\"NEW_AGE\"] == 3) & (df[\"default payment next month\"] == 1)]))\n",
    "\n",
    "\n",
    "print(len(df[(df[\"NEW_AGE\"] == 1) & (df[\"default payment next month\"] == 0)]))\n",
    "print(len(df[(df[\"NEW_AGE\"] == 2) & (df[\"default payment next month\"] == 0)]))\n",
    "print(len(df[(df[\"NEW_AGE\"] == 3) & (df[\"default payment next month\"] == 0)]))\n"
   ]
  },
  {
   "cell_type": "code",
   "execution_count": 56,
   "id": "d5baa313",
   "metadata": {},
   "outputs": [
    {
     "data": {
      "text/plain": [
       "1.6554284303886136e-05"
      ]
     },
     "execution_count": 56,
     "metadata": {},
     "output_type": "execute_result"
    }
   ],
   "source": [
    "tab_data_NEW_AGE = [[4660,1903,73], [17066,6099,199]]\n",
    "chi2, p, dof, ex = chi2_contingency(tab_data_NEW_AGE)\n",
    "p"
   ]
  },
  {
   "cell_type": "markdown",
   "id": "99e4539f",
   "metadata": {},
   "source": [
    "All the p-values reported (for the features) are less than the p value of 0.05. Hence, the results are significant at p <  0.05 and we reject the H0 in favor of Ha. Hence, these feature variables may be useful input attributes in the model when we are trying to predict if the customer will default.\n"
   ]
  },
  {
   "cell_type": "markdown",
   "id": "9008d796",
   "metadata": {},
   "source": [
    "## Creating training set and test set for our model"
   ]
  },
  {
   "cell_type": "code",
   "execution_count": 57,
   "id": "f427d39b",
   "metadata": {},
   "outputs": [],
   "source": [
    "from sklearn import svm, metrics\n",
    "from sklearn.model_selection import GridSearchCV, RepeatedStratifiedKFold\n",
    "from sklearn.linear_model import LogisticRegression"
   ]
  },
  {
   "cell_type": "code",
   "execution_count": 58,
   "id": "9eb58e9b",
   "metadata": {},
   "outputs": [],
   "source": [
    "random.seed(1234)\n",
    "n = len(df.index)\n",
    "index = list(range(0,n))\n",
    "testindex = random.sample(index, math.trunc(n / 4))\n",
    "trainindex = [x for x in index if x not in testindex]\n",
    "test_data = df.loc[df.index[testindex]]\n",
    "train_data = df.loc[df.index[trainindex]]"
   ]
  },
  {
   "cell_type": "code",
   "execution_count": 59,
   "id": "5de97676",
   "metadata": {},
   "outputs": [],
   "source": [
    "train_x = train_data[[\"SEX\", \"LATE\", \"EDUCATION\",\"NEW_LIMIT_BAL\", \"NEW_AGE\", \"MARRIAGE\"]]\n",
    "train_y = train_data[\"default payment next month\"]\n",
    "test_x = test_data[[\"SEX\", \"LATE\",\"EDUCATION\",\"NEW_LIMIT_BAL\",  \"NEW_AGE\", \"MARRIAGE\"]]\n",
    "test_y = test_data[\"default payment next month\"]"
   ]
  },
  {
   "cell_type": "markdown",
   "id": "320e6078",
   "metadata": {},
   "source": [
    "## Model Selection "
   ]
  },
  {
   "cell_type": "markdown",
   "id": "b25b3bf2",
   "metadata": {},
   "source": [
    "## SVM"
   ]
  },
  {
   "cell_type": "code",
   "execution_count": 60,
   "id": "97c3a295",
   "metadata": {},
   "outputs": [],
   "source": [
    "param_grid = {'kernel': ('linear', 'rbf')}\n"
   ]
  },
  {
   "cell_type": "code",
   "execution_count": 61,
   "id": "3ad267f8",
   "metadata": {
    "scrolled": false
   },
   "outputs": [
    {
     "data": {
      "text/plain": [
       "GridSearchCV(cv=3, estimator=SVC(class_weight='balanced', random_state=0),\n",
       "             param_grid={'kernel': ('linear', 'rbf')}, scoring='roc_auc')"
      ]
     },
     "execution_count": 61,
     "metadata": {},
     "output_type": "execute_result"
    }
   ],
   "source": [
    "svc = svm.SVC(random_state=0, class_weight= \"balanced\")\n",
    "search = GridSearchCV(estimator=svc, param_grid=param_grid, scoring=\"roc_auc\", cv = 3)\n",
    "search.fit(train_x, train_y)"
   ]
  },
  {
   "cell_type": "markdown",
   "id": "ab74d7b8",
   "metadata": {},
   "source": [
    "Setting class_weights = ‘balanced’, the model assigns the class weights inversely proportional to their respective frequencies."
   ]
  },
  {
   "cell_type": "code",
   "execution_count": 62,
   "id": "752750e4",
   "metadata": {},
   "outputs": [],
   "source": [
    "results_df = pd.DataFrame(search.cv_results_)\n",
    "results_df = results_df.sort_values(by=[\"rank_test_score\"])"
   ]
  },
  {
   "cell_type": "code",
   "execution_count": 63,
   "id": "08d50eed",
   "metadata": {
    "scrolled": true
   },
   "outputs": [
    {
     "data": {
      "text/plain": [
       "0    0.712730\n",
       "1    0.696309\n",
       "Name: mean_test_score, dtype: float64"
      ]
     },
     "execution_count": 63,
     "metadata": {},
     "output_type": "execute_result"
    }
   ],
   "source": [
    "results_df[\"mean_test_score\"]"
   ]
  },
  {
   "cell_type": "code",
   "execution_count": 64,
   "id": "da8760c2",
   "metadata": {},
   "outputs": [
    {
     "data": {
      "text/html": [
       "<div>\n",
       "<style scoped>\n",
       "    .dataframe tbody tr th:only-of-type {\n",
       "        vertical-align: middle;\n",
       "    }\n",
       "\n",
       "    .dataframe tbody tr th {\n",
       "        vertical-align: top;\n",
       "    }\n",
       "\n",
       "    .dataframe thead th {\n",
       "        text-align: right;\n",
       "    }\n",
       "</style>\n",
       "<table border=\"1\" class=\"dataframe\">\n",
       "  <thead>\n",
       "    <tr style=\"text-align: right;\">\n",
       "      <th></th>\n",
       "      <th>mean_fit_time</th>\n",
       "      <th>std_fit_time</th>\n",
       "      <th>mean_score_time</th>\n",
       "      <th>std_score_time</th>\n",
       "      <th>param_kernel</th>\n",
       "      <th>params</th>\n",
       "      <th>split0_test_score</th>\n",
       "      <th>split1_test_score</th>\n",
       "      <th>split2_test_score</th>\n",
       "      <th>mean_test_score</th>\n",
       "      <th>std_test_score</th>\n",
       "      <th>rank_test_score</th>\n",
       "    </tr>\n",
       "  </thead>\n",
       "  <tbody>\n",
       "    <tr>\n",
       "      <th>0</th>\n",
       "      <td>1.674502</td>\n",
       "      <td>0.012977</td>\n",
       "      <td>0.565239</td>\n",
       "      <td>0.004429</td>\n",
       "      <td>linear</td>\n",
       "      <td>{'kernel': 'linear'}</td>\n",
       "      <td>0.697327</td>\n",
       "      <td>0.713879</td>\n",
       "      <td>0.726984</td>\n",
       "      <td>0.712730</td>\n",
       "      <td>0.012134</td>\n",
       "      <td>1</td>\n",
       "    </tr>\n",
       "    <tr>\n",
       "      <th>1</th>\n",
       "      <td>2.872576</td>\n",
       "      <td>0.167673</td>\n",
       "      <td>4.147433</td>\n",
       "      <td>0.044512</td>\n",
       "      <td>rbf</td>\n",
       "      <td>{'kernel': 'rbf'}</td>\n",
       "      <td>0.683023</td>\n",
       "      <td>0.704573</td>\n",
       "      <td>0.701331</td>\n",
       "      <td>0.696309</td>\n",
       "      <td>0.009487</td>\n",
       "      <td>2</td>\n",
       "    </tr>\n",
       "  </tbody>\n",
       "</table>\n",
       "</div>"
      ],
      "text/plain": [
       "   mean_fit_time  std_fit_time  mean_score_time  std_score_time param_kernel  \\\n",
       "0       1.674502      0.012977         0.565239        0.004429       linear   \n",
       "1       2.872576      0.167673         4.147433        0.044512          rbf   \n",
       "\n",
       "                 params  split0_test_score  split1_test_score  \\\n",
       "0  {'kernel': 'linear'}           0.697327           0.713879   \n",
       "1     {'kernel': 'rbf'}           0.683023           0.704573   \n",
       "\n",
       "   split2_test_score  mean_test_score  std_test_score  rank_test_score  \n",
       "0           0.726984         0.712730        0.012134                1  \n",
       "1           0.701331         0.696309        0.009487                2  "
      ]
     },
     "execution_count": 64,
     "metadata": {},
     "output_type": "execute_result"
    }
   ],
   "source": [
    "results_df"
   ]
  },
  {
   "cell_type": "markdown",
   "id": "4e0be0fe",
   "metadata": {},
   "source": [
    "Based on the GridSearch result, we can conclude that the best parameter to choose is the linear kernel."
   ]
  },
  {
   "cell_type": "markdown",
   "id": "080acb3f",
   "metadata": {},
   "source": [
    "### Model evaluation"
   ]
  },
  {
   "cell_type": "code",
   "execution_count": 65,
   "id": "ea326a63",
   "metadata": {},
   "outputs": [
    {
     "data": {
      "text/plain": [
       "SVC(class_weight='balanced', kernel='linear')"
      ]
     },
     "execution_count": 65,
     "metadata": {},
     "output_type": "execute_result"
    }
   ],
   "source": [
    "clf = svm.SVC(kernel='linear', class_weight='balanced') # Linear Kernel\n",
    "clf.fit(train_x, train_y)"
   ]
  },
  {
   "cell_type": "code",
   "execution_count": 66,
   "id": "bf131fa4",
   "metadata": {
    "scrolled": true
   },
   "outputs": [],
   "source": [
    "y_pred = clf.predict(test_x)"
   ]
  },
  {
   "cell_type": "code",
   "execution_count": 67,
   "id": "eee5f237",
   "metadata": {
    "scrolled": true
   },
   "outputs": [
    {
     "data": {
      "text/plain": [
       "array([[5029,  860],\n",
       "       [ 793,  818]])"
      ]
     },
     "execution_count": 67,
     "metadata": {},
     "output_type": "execute_result"
    }
   ],
   "source": [
    "confusion_matrix = metrics.confusion_matrix(test_y, y_pred)\n",
    "tn, fp, fn, tp = confusion_matrix.ravel()\n",
    "confusion_matrix"
   ]
  },
  {
   "cell_type": "code",
   "execution_count": 68,
   "id": "70cdac50",
   "metadata": {
    "scrolled": true
   },
   "outputs": [
    {
     "name": "stdout",
     "output_type": "stream",
     "text": [
      "Precision:  0.48748510131108463\n",
      "Recall:  0.5077591558038486\n",
      "Accuracy:  0.7796\n",
      "f1-score:  0.4974156278504105\n",
      "misclassification rate:  0.2204\n",
      "sensitivity:  0.5077591558038486\n",
      "specificity:  0.8539650195279335\n"
     ]
    }
   ],
   "source": [
    "# Model Precision\n",
    "print(\"Precision: \",metrics.precision_score(test_y, y_pred))\n",
    "\n",
    "# Model Recall\n",
    "print(\"Recall: \",metrics.recall_score(test_y, y_pred))\n",
    "\n",
    "#Model Accuracy\n",
    "print(\"Accuracy: \",metrics.accuracy_score(test_y, y_pred))\n",
    "\n",
    "#f1-score\n",
    "print(\"f1-score: \", metrics.f1_score(test_y, y_pred))\n",
    "\n",
    "#misclassification rate\n",
    "misclassification_rate = (fp + fn) / (fp + fn + tp + tn)\n",
    "print(\"misclassification rate: \", misclassification_rate)\n",
    "\n",
    "#sensitivity\n",
    "sensitivity = (tp) / (fn + tp)\n",
    "print(\"sensitivity: \", sensitivity)\n",
    "\n",
    "#specificity\n",
    "specificity = (tn) / (tn + fp)\n",
    "print(\"specificity: \", specificity)"
   ]
  },
  {
   "cell_type": "markdown",
   "id": "68f410a8",
   "metadata": {},
   "source": [
    "## Logistic Regression"
   ]
  },
  {
   "cell_type": "code",
   "execution_count": 69,
   "id": "edc7ad26",
   "metadata": {},
   "outputs": [],
   "source": [
    "parameters = {\n",
    "    'solver'  : ['newton-cg', 'lbfgs', 'liblinear']\n",
    "}"
   ]
  },
  {
   "cell_type": "code",
   "execution_count": 70,
   "id": "04230dbb",
   "metadata": {
    "scrolled": false
   },
   "outputs": [
    {
     "data": {
      "text/plain": [
       "GridSearchCV(cv=10, estimator=LogisticRegression(class_weight='balanced'),\n",
       "             param_grid={'solver': ['newton-cg', 'lbfgs', 'liblinear']},\n",
       "             scoring='roc_auc')"
      ]
     },
     "execution_count": 70,
     "metadata": {},
     "output_type": "execute_result"
    }
   ],
   "source": [
    "logreg = LogisticRegression(class_weight = \"balanced\")\n",
    "search_logreg = GridSearchCV(logreg,                  \n",
    "                   param_grid = parameters,\n",
    "                   scoring=\"roc_auc\",     \n",
    "                   cv=10)  \n",
    "search_logreg.fit(train_x, train_y)"
   ]
  },
  {
   "cell_type": "code",
   "execution_count": 71,
   "id": "c8e14718",
   "metadata": {},
   "outputs": [],
   "source": [
    "results_logreg_df = pd.DataFrame(search_logreg.cv_results_)\n",
    "results_logreg_df = results_logreg_df.sort_values(by=[\"rank_test_score\"])"
   ]
  },
  {
   "cell_type": "code",
   "execution_count": 72,
   "id": "436a80b9",
   "metadata": {
    "scrolled": false
   },
   "outputs": [
    {
     "data": {
      "text/html": [
       "<div>\n",
       "<style scoped>\n",
       "    .dataframe tbody tr th:only-of-type {\n",
       "        vertical-align: middle;\n",
       "    }\n",
       "\n",
       "    .dataframe tbody tr th {\n",
       "        vertical-align: top;\n",
       "    }\n",
       "\n",
       "    .dataframe thead th {\n",
       "        text-align: right;\n",
       "    }\n",
       "</style>\n",
       "<table border=\"1\" class=\"dataframe\">\n",
       "  <thead>\n",
       "    <tr style=\"text-align: right;\">\n",
       "      <th></th>\n",
       "      <th>mean_fit_time</th>\n",
       "      <th>std_fit_time</th>\n",
       "      <th>mean_score_time</th>\n",
       "      <th>std_score_time</th>\n",
       "      <th>param_solver</th>\n",
       "      <th>params</th>\n",
       "      <th>split0_test_score</th>\n",
       "      <th>split1_test_score</th>\n",
       "      <th>split2_test_score</th>\n",
       "      <th>split3_test_score</th>\n",
       "      <th>split4_test_score</th>\n",
       "      <th>split5_test_score</th>\n",
       "      <th>split6_test_score</th>\n",
       "      <th>split7_test_score</th>\n",
       "      <th>split8_test_score</th>\n",
       "      <th>split9_test_score</th>\n",
       "      <th>mean_test_score</th>\n",
       "      <th>std_test_score</th>\n",
       "      <th>rank_test_score</th>\n",
       "    </tr>\n",
       "  </thead>\n",
       "  <tbody>\n",
       "    <tr>\n",
       "      <th>0</th>\n",
       "      <td>0.046753</td>\n",
       "      <td>0.008292</td>\n",
       "      <td>0.002345</td>\n",
       "      <td>0.002881</td>\n",
       "      <td>newton-cg</td>\n",
       "      <td>{'solver': 'newton-cg'}</td>\n",
       "      <td>0.700115</td>\n",
       "      <td>0.711203</td>\n",
       "      <td>0.710299</td>\n",
       "      <td>0.695224</td>\n",
       "      <td>0.713758</td>\n",
       "      <td>0.743361</td>\n",
       "      <td>0.735079</td>\n",
       "      <td>0.732856</td>\n",
       "      <td>0.738173</td>\n",
       "      <td>0.733928</td>\n",
       "      <td>0.721400</td>\n",
       "      <td>0.016318</td>\n",
       "      <td>1</td>\n",
       "    </tr>\n",
       "    <tr>\n",
       "      <th>1</th>\n",
       "      <td>0.033027</td>\n",
       "      <td>0.002803</td>\n",
       "      <td>0.001229</td>\n",
       "      <td>0.000264</td>\n",
       "      <td>lbfgs</td>\n",
       "      <td>{'solver': 'lbfgs'}</td>\n",
       "      <td>0.700115</td>\n",
       "      <td>0.711203</td>\n",
       "      <td>0.710299</td>\n",
       "      <td>0.695224</td>\n",
       "      <td>0.713758</td>\n",
       "      <td>0.743361</td>\n",
       "      <td>0.735079</td>\n",
       "      <td>0.732856</td>\n",
       "      <td>0.738173</td>\n",
       "      <td>0.733928</td>\n",
       "      <td>0.721400</td>\n",
       "      <td>0.016318</td>\n",
       "      <td>1</td>\n",
       "    </tr>\n",
       "    <tr>\n",
       "      <th>2</th>\n",
       "      <td>0.016963</td>\n",
       "      <td>0.004272</td>\n",
       "      <td>0.001373</td>\n",
       "      <td>0.000358</td>\n",
       "      <td>liblinear</td>\n",
       "      <td>{'solver': 'liblinear'}</td>\n",
       "      <td>0.700110</td>\n",
       "      <td>0.711203</td>\n",
       "      <td>0.710299</td>\n",
       "      <td>0.695138</td>\n",
       "      <td>0.713734</td>\n",
       "      <td>0.743361</td>\n",
       "      <td>0.735078</td>\n",
       "      <td>0.732856</td>\n",
       "      <td>0.737945</td>\n",
       "      <td>0.733916</td>\n",
       "      <td>0.721364</td>\n",
       "      <td>0.016309</td>\n",
       "      <td>3</td>\n",
       "    </tr>\n",
       "  </tbody>\n",
       "</table>\n",
       "</div>"
      ],
      "text/plain": [
       "   mean_fit_time  std_fit_time  mean_score_time  std_score_time param_solver  \\\n",
       "0       0.046753      0.008292         0.002345        0.002881    newton-cg   \n",
       "1       0.033027      0.002803         0.001229        0.000264        lbfgs   \n",
       "2       0.016963      0.004272         0.001373        0.000358    liblinear   \n",
       "\n",
       "                    params  split0_test_score  split1_test_score  \\\n",
       "0  {'solver': 'newton-cg'}           0.700115           0.711203   \n",
       "1      {'solver': 'lbfgs'}           0.700115           0.711203   \n",
       "2  {'solver': 'liblinear'}           0.700110           0.711203   \n",
       "\n",
       "   split2_test_score  split3_test_score  split4_test_score  split5_test_score  \\\n",
       "0           0.710299           0.695224           0.713758           0.743361   \n",
       "1           0.710299           0.695224           0.713758           0.743361   \n",
       "2           0.710299           0.695138           0.713734           0.743361   \n",
       "\n",
       "   split6_test_score  split7_test_score  split8_test_score  split9_test_score  \\\n",
       "0           0.735079           0.732856           0.738173           0.733928   \n",
       "1           0.735079           0.732856           0.738173           0.733928   \n",
       "2           0.735078           0.732856           0.737945           0.733916   \n",
       "\n",
       "   mean_test_score  std_test_score  rank_test_score  \n",
       "0         0.721400        0.016318                1  \n",
       "1         0.721400        0.016318                1  \n",
       "2         0.721364        0.016309                3  "
      ]
     },
     "execution_count": 72,
     "metadata": {},
     "output_type": "execute_result"
    }
   ],
   "source": [
    "results_logreg_df[\"mean_test_score\"]\n",
    "results_logreg_df"
   ]
  },
  {
   "cell_type": "code",
   "execution_count": 73,
   "id": "c0e3e8d5",
   "metadata": {},
   "outputs": [
    {
     "name": "stdout",
     "output_type": "stream",
     "text": [
      "Accuracy: 0.7930666666666667\n"
     ]
    }
   ],
   "source": [
    "logreg = LogisticRegression(solver = \"newton-cg\")\n",
    "logreg.fit(train_x,train_y)\n",
    "y_pred_log = logreg.predict(test_x)\n",
    "print(\"Accuracy:\",metrics.accuracy_score(test_y, y_pred_log))"
   ]
  },
  {
   "cell_type": "code",
   "execution_count": 74,
   "id": "90826bc5",
   "metadata": {
    "scrolled": true
   },
   "outputs": [
    {
     "data": {
      "text/plain": [
       "array([[5443,  446],\n",
       "       [1106,  505]])"
      ]
     },
     "execution_count": 74,
     "metadata": {},
     "output_type": "execute_result"
    }
   ],
   "source": [
    "confusion_matrix = metrics.confusion_matrix(test_y, y_pred_log)\n",
    "tn, fp, fn, tp = confusion_matrix.ravel()\n",
    "confusion_matrix"
   ]
  },
  {
   "cell_type": "code",
   "execution_count": 75,
   "id": "53abffc1",
   "metadata": {},
   "outputs": [
    {
     "name": "stdout",
     "output_type": "stream",
     "text": [
      "Precision:  0.5310199789695058\n",
      "Recall:  0.31346989447548107\n",
      "Accuracy:  0.7930666666666667\n",
      "f1-score:  0.3942232630757221\n",
      "misclassification rate:  0.20693333333333333\n",
      "sensitivity:  0.31346989447548107\n",
      "specificity:  0.9242655798947189\n"
     ]
    }
   ],
   "source": [
    "# Model Precision\n",
    "print(\"Precision: \",metrics.precision_score(test_y, y_pred_log))\n",
    "\n",
    "# Model Recall\n",
    "print(\"Recall: \",metrics.recall_score(test_y, y_pred_log))\n",
    "\n",
    "#Model Accuracy\n",
    "print(\"Accuracy: \",metrics.accuracy_score(test_y, y_pred_log))\n",
    "\n",
    "#f1-score\n",
    "print(\"f1-score: \", metrics.f1_score(test_y, y_pred_log))\n",
    "\n",
    "#misclassification rate\n",
    "misclassification_rate = (fp + fn) / (fp + fn + tp + tn)\n",
    "print(\"misclassification rate: \", misclassification_rate)\n",
    "\n",
    "#sensitivity\n",
    "sensitivity = (tp) / (fn + tp)\n",
    "print(\"sensitivity: \", sensitivity)\n",
    "\n",
    "#specificity\n",
    "specificity = (tn) / (tn + fp)\n",
    "print(\"specificity: \", specificity)"
   ]
  },
  {
   "cell_type": "markdown",
   "id": "eda00f59",
   "metadata": {},
   "source": [
    "## Decision Tree"
   ]
  },
  {
   "cell_type": "code",
   "execution_count": 76,
   "id": "b3e78b79",
   "metadata": {},
   "outputs": [],
   "source": [
    "from sklearn import tree"
   ]
  },
  {
   "cell_type": "code",
   "execution_count": 77,
   "id": "dfcf126e",
   "metadata": {},
   "outputs": [],
   "source": [
    "clf = tree.DecisionTreeClassifier()\n",
    "clf = clf.fit(train_x, train_y)"
   ]
  },
  {
   "cell_type": "code",
   "execution_count": 78,
   "id": "426a989d",
   "metadata": {},
   "outputs": [],
   "source": [
    "y_pred_dtree = clf.predict(test_x)"
   ]
  },
  {
   "cell_type": "code",
   "execution_count": 79,
   "id": "f167c232",
   "metadata": {},
   "outputs": [
    {
     "data": {
      "text/plain": [
       "array([[5373,  516],\n",
       "       [1044,  567]])"
      ]
     },
     "execution_count": 79,
     "metadata": {},
     "output_type": "execute_result"
    }
   ],
   "source": [
    "confusion_matrix = metrics.confusion_matrix(test_y, y_pred_dtree)\n",
    "tn, fp, fn, tp = confusion_matrix.ravel()\n",
    "confusion_matrix"
   ]
  },
  {
   "cell_type": "code",
   "execution_count": 80,
   "id": "825bf064",
   "metadata": {},
   "outputs": [
    {
     "name": "stdout",
     "output_type": "stream",
     "text": [
      "Precision:  0.5235457063711911\n",
      "Recall:  0.35195530726256985\n",
      "Accuracy:  0.792\n",
      "f1-score:  0.4209354120267261\n",
      "misclassification rate:  0.208\n",
      "sensitivity:  0.35195530726256985\n",
      "specificity:  0.9123790117167601\n"
     ]
    }
   ],
   "source": [
    "# Model Precision\n",
    "print(\"Precision: \",metrics.precision_score(test_y, y_pred_dtree))\n",
    "\n",
    "# Model Recall\n",
    "print(\"Recall: \",metrics.recall_score(test_y, y_pred_dtree))\n",
    "\n",
    "#Model Accuracy\n",
    "print(\"Accuracy: \",metrics.accuracy_score(test_y, y_pred_dtree))\n",
    "\n",
    "#f1-score\n",
    "print(\"f1-score: \", metrics.f1_score(test_y, y_pred_dtree))\n",
    "\n",
    "#misclassification rate\n",
    "misclassification_rate = (fp + fn) / (fp + fn + tp + tn)\n",
    "print(\"misclassification rate: \", misclassification_rate)\n",
    "\n",
    "#sensitivity\n",
    "sensitivity = (tp) / (fn + tp)\n",
    "print(\"sensitivity: \", sensitivity)\n",
    "\n",
    "#specificity\n",
    "specificity = (tn) / (tn + fp)\n",
    "print(\"specificity: \", specificity)"
   ]
  },
  {
   "cell_type": "markdown",
   "id": "6900ce97",
   "metadata": {},
   "source": [
    "svm gives higher recall so higher true positive rate so should choose it since we want to determine those who defaults."
   ]
  },
  {
   "cell_type": "markdown",
   "id": "1b30900f",
   "metadata": {},
   "source": [
    "## Using ANN \n"
   ]
  },
  {
   "cell_type": "code",
   "execution_count": 81,
   "id": "f3194758",
   "metadata": {},
   "outputs": [],
   "source": [
    "import torch\n",
    "import torch.nn as nn\n",
    "import numpy as np"
   ]
  },
  {
   "cell_type": "code",
   "execution_count": 82,
   "id": "de5b0ef9",
   "metadata": {},
   "outputs": [],
   "source": [
    "# train_x = train_data[[\"SEX\", \"LATE\", \"EDUCATION\",\"NEW_LIMIT_BAL\", \"NEW_AGE\", \"MARRIAGE\"]]\n",
    "# train_y = train_data[\"default payment next month\"]\n",
    "# test_x = test_data[[\"SEX\", \"LATE\",\"EDUCATION\",\"NEW_LIMIT_BAL\",  \"NEW_AGE\", \"MARRIAGE\"]]\n",
    "# test_y = test_data[\"default payment next month\"]"
   ]
  },
  {
   "cell_type": "code",
   "execution_count": 83,
   "id": "b93020fd",
   "metadata": {},
   "outputs": [],
   "source": [
    "def buildANNmodel():\n",
    "    ANNclassify = nn.Sequential(\n",
    "                  nn.Linear(6, 16),\n",
    "                  nn.ReLU(),\n",
    "                  nn.Linear(16,1),\n",
    "                  nn.ReLU(),\n",
    "                  nn.Linear(1,1),\n",
    "                  nn.Sigmoid() )\n",
    "    lossfun = nn.BCELoss()\n",
    "    optimizer = torch.optim.SGD(ANNclassify.parameters(), lr = 0.1 )\n",
    "    return ANNclassify, lossfun, optimizer\n",
    "    "
   ]
  },
  {
   "cell_type": "code",
   "execution_count": null,
   "id": "e4ffc8e5",
   "metadata": {},
   "outputs": [],
   "source": []
  },
  {
   "cell_type": "code",
   "execution_count": 84,
   "id": "7508d88c",
   "metadata": {},
   "outputs": [],
   "source": [
    "train_x_torch = torch.tensor(train_x.to_numpy().astype(np.float32))\n",
    "train_y_torch = torch.tensor(train_y.to_numpy().astype(np.float32).reshape(22500,1))\n",
    "test_x_torch = torch.tensor(test_x.to_numpy().astype(np.float32))\n",
    "test_y_torch = torch.tensor(test_y.to_numpy().astype(np.float32).reshape(7500,1))\n"
   ]
  },
  {
   "cell_type": "code",
   "execution_count": 85,
   "id": "6560908f",
   "metadata": {},
   "outputs": [
    {
     "data": {
      "text/plain": [
       "torch.float32"
      ]
     },
     "execution_count": 85,
     "metadata": {},
     "output_type": "execute_result"
    }
   ],
   "source": [
    "train_x_torch.dtype"
   ]
  },
  {
   "cell_type": "code",
   "execution_count": 86,
   "id": "4f615302",
   "metadata": {},
   "outputs": [],
   "source": [
    "numepochs = 1500\n",
    "def train_model(ANNclassify):\n",
    "    losses = torch.zeros(numepochs)\n",
    "    for epoch_i in range(numepochs):\n",
    "        \n",
    "        #initialize losses\n",
    "        yHat = ANNclassify(train_x_torch)\n",
    "        \n",
    "        #compute loss\n",
    "        loss = lossfun(yHat, train_y_torch)\n",
    "        losses[epoch_i] = loss\n",
    "        \n",
    "        #backprop\n",
    "        optimizer.zero_grad()\n",
    "        loss.backward()\n",
    "        optimizer.step()\n",
    "        \n",
    "    predictions = ANNclassify(train_x_torch)\n",
    "    totalacc = 100 * torch.mean(((predictions > 0.5) == train_y_torch).float())\n",
    "    \n",
    "    return losses, predictions, totalacc, ANNclassify\n",
    "\n",
    "        "
   ]
  },
  {
   "cell_type": "code",
   "execution_count": 87,
   "id": "0d318eb9",
   "metadata": {},
   "outputs": [
    {
     "name": "stdout",
     "output_type": "stream",
     "text": [
      "final accuracy: 77.66666412353516\n"
     ]
    }
   ],
   "source": [
    "ANNclassify, lossfun, optimizer = buildANNmodel()\n",
    "losses, predictions, totalacc, model = train_model(ANNclassify)\n",
    "print(f\"final accuracy: {totalacc}\")"
   ]
  },
  {
   "cell_type": "code",
   "execution_count": 88,
   "id": "e41fe88c",
   "metadata": {},
   "outputs": [
    {
     "data": {
      "image/png": "[encoded data removed]",
      "text/plain": [
       "<Figure size 432x288 with 1 Axes>"
      ]
     },
     "metadata": {
      "needs_background": "light"
     },
     "output_type": "display_data"
    }
   ],
   "source": [
    "plt.plot(losses.detach(), 'o', markerfacecolor = 'w', linewidth = .1)\n",
    "plt.xlabel('Epoch')\n",
    "plt.ylabel('Loss')\n",
    "plt.title(\"Losses over Epoch\")\n",
    "plt.show()"
   ]
  },
  {
   "cell_type": "markdown",
   "id": "9746d753",
   "metadata": {},
   "source": [
    "## Performance of model for test set"
   ]
  },
  {
   "cell_type": "code",
   "execution_count": null,
   "id": "b98f39a4",
   "metadata": {},
   "outputs": [],
   "source": [
    "predYtest = ANNreg(x[~trainBool])\n",
    "testloss = (predYtest-y[~trainBool]).pow(2).mean()"
   ]
  },
  {
   "cell_type": "code",
   "execution_count": 96,
   "id": "41e267b5",
   "metadata": {},
   "outputs": [
    {
     "data": {
      "text/plain": [
       "tensor(78.5200)"
      ]
     },
     "execution_count": 96,
     "metadata": {},
     "output_type": "execute_result"
    }
   ],
   "source": [
    "y_test_pred = model(test_x_torch)\n",
    "totalacc_y_test = 100 * torch.mean(((y_test_pred > 0.5) == test_y_torch).float())\n",
    "totalacc_y_test.float()"
   ]
  },
  {
   "cell_type": "code",
   "execution_count": null,
   "id": "75158f44",
   "metadata": {},
   "outputs": [],
   "source": []
  },
  {
   "cell_type": "code",
   "execution_count": null,
   "id": "529408dc",
   "metadata": {},
   "outputs": [],
   "source": []
  }
 ],
 "metadata": {
  "kernelspec": {
   "display_name": "Python 3 (ipykernel)",
   "language": "python",
   "name": "python3"
  },
  "language_info": {
   "codemirror_mode": {
    "name": "ipython",
    "version": 3
   },
   "file_extension": ".py",
   "mimetype": "text/x-python",
   "name": "python",
   "nbconvert_exporter": "python",
   "pygments_lexer": "ipython3",
   "version": "3.9.12"
  },
  "vscode": {
   "interpreter": {
    "hash": "5c7b89af1651d0b8571dde13640ecdccf7d5a6204171d6ab33e7c296e100e08a"
   }
  }
 },
 "nbformat": 4,
 "nbformat_minor": 5
}
